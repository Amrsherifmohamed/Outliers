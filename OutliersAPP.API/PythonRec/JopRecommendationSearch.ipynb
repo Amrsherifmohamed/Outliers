{
 "cells": [
  {
   "cell_type": "code",
   "execution_count": 1,
   "metadata": {},
   "outputs": [],
   "source": [
    "%matplotlib inline\n",
    "import matplotlib.pyplot as plt\n",
    "import seaborn as sns\n",
    "import pandas as pd\n",
    "import numpy as np\n",
    "import ast \n",
    "from scipy import stats\n",
    "from ast import literal_eval\n",
    "from sklearn.feature_extraction.text import TfidfVectorizer, CountVectorizer\n",
    "from sklearn.metrics.pairwise import linear_kernel, cosine_similarity\n",
    "import sys\n",
    "import json\n",
    "# from nltk.stem.snowball import SnowballStemmer\n",
    "# from nltk.stem.wordnet import WordNetLemmatizer\n",
    "# from nltk.corpus import wordnet\n",
    "# from surprise import Reader, Dataset, SVD, evaluate\n",
    "\n",
    "import warnings; warnings.simplefilter('ignore')\n"
   ]
  },
  {
   "cell_type": "code",
   "execution_count": 3,
   "metadata": {},
   "outputs": [
    {
     "ename": "IndentationError",
     "evalue": "expected an indented block (<ipython-input-3-2027d355388f>, line 15)",
     "output_type": "error",
     "traceback": [
      "\u001b[1;36m  File \u001b[1;32m\"<ipython-input-3-2027d355388f>\"\u001b[1;36m, line \u001b[1;32m15\u001b[0m\n\u001b[1;33m    con.close()\u001b[0m\n\u001b[1;37m      ^\u001b[0m\n\u001b[1;31mIndentationError\u001b[0m\u001b[1;31m:\u001b[0m expected an indented block\n"
     ]
    }
   ],
   "source": [
    "import sqlite3\n",
    "\n",
    "#query=len(sys.argv)>1?sys.argv[1]:\"php\"\n",
    "\n",
    "# Create a SQL connection to our SQLite database\n",
    "con = sqlite3.connect(\"..\\\\OutliersAPP.db\")\n",
    "\n",
    "cur = con.cursor()\n",
    "\n",
    "# The result of a \"cursor.execute\" can be iterated over by row\n",
    "for row in cur.execute('SELECT * FROM Job'):\n",
    "    # print(row)\n",
    "\n",
    "# Be sure to close the connection\n",
    "con.close()"
   ]
  },
  {
   "cell_type": "code",
   "execution_count": 20,
   "metadata": {},
   "outputs": [
    {
     "name": "stdout",
     "output_type": "stream",
     "text": [
      "Id  UserId       JobTitle ExperienceNeeded Salary   JobType  \\\n",
      "0   1      24             ff                f      f  PartTime   \n",
      "1   2      24   web devolper           nurmal    500  PartTime   \n",
      "2   3      24  game devolper             some   4000  FullTime   \n",
      "3   4      24            php     programming    5000  PartTime   \n",
      "\n",
      "  JobRequirements                     CareerLevel Vacancies  \\\n",
      "0             rrr       EntryLevel(freshGraduate)         f   \n",
      "1            aaaa       EntryLevel(freshGraduate)         f   \n",
      "2             fff  IntermediateorExperiencedLevel       aaa   \n",
      "3         ffffddd       EntryLevel(freshGraduate)        aa   \n",
      "\n",
      "                 JobDescription   City Country                      Created  \\\n",
      "0                           hyg      f       f  2020-05-11 23:55:51.7599029   \n",
      "1  pig salary know css html php   alex   egypt  2020-06-08 17:52:57.1577042   \n",
      "2               know c# and oop  cairo   egypt  2020-06-08 17:55:56.9349025   \n",
      "3                      know php  cairo   egypt  2020-06-08 18:01:47.1314275   \n",
      "\n",
      "  JobRole  \n",
      "0      ff  \n",
      "1    aaaa  \n",
      "2     aaa  \n",
      "3     aaa  \n"
     ]
    }
   ],
   "source": [
    "\n",
    "import pandas as pd\n",
    "import sqlite3\n",
    "\n",
    "# Read sqlite query results into a pandas DataFrame\n",
    "con = sqlite3.connect(\"..\\\\OutliersAPP.db\")\n",
    "df = pd.read_sql_query(\"SELECT * FROM Job \", con)\n",
    "\n",
    "# Verify that result of SQL query is stored in the dataframe\n",
    "# print(df.head())\n",
    "\n",
    "con.close()"
   ]
  },
  {
   "cell_type": "code",
   "execution_count": 60,
   "metadata": {},
   "outputs": [],
   "source": [
    "jobs_base_line = df"
   ]
  },
  {
   "cell_type": "code",
   "execution_count": 48,
   "metadata": {},
   "outputs": [
    {
     "data": {
      "text/html": [
       "<div>\n",
       "<style scoped>\n",
       "    .dataframe tbody tr th:only-of-type {\n",
       "        vertical-align: middle;\n",
       "    }\n",
       "\n",
       "    .dataframe tbody tr th {\n",
       "        vertical-align: top;\n",
       "    }\n",
       "\n",
       "    .dataframe thead th {\n",
       "        text-align: right;\n",
       "    }\n",
       "</style>\n",
       "<table border=\"1\" class=\"dataframe\">\n",
       "  <thead>\n",
       "    <tr style=\"text-align: right;\">\n",
       "      <th></th>\n",
       "      <th>level_0</th>\n",
       "      <th>index</th>\n",
       "      <th>Id</th>\n",
       "      <th>UserId</th>\n",
       "      <th>JobTitle</th>\n",
       "      <th>ExperienceNeeded</th>\n",
       "      <th>Salary</th>\n",
       "      <th>JobType</th>\n",
       "      <th>JobRequirements</th>\n",
       "      <th>CareerLevel</th>\n",
       "      <th>Vacancies</th>\n",
       "      <th>JobDescription</th>\n",
       "      <th>City</th>\n",
       "      <th>Country</th>\n",
       "      <th>Created</th>\n",
       "      <th>JobRole</th>\n",
       "    </tr>\n",
       "  </thead>\n",
       "  <tbody>\n",
       "    <tr>\n",
       "      <th>0</th>\n",
       "      <td>0</td>\n",
       "      <td>0</td>\n",
       "      <td>1</td>\n",
       "      <td>24</td>\n",
       "      <td>ff</td>\n",
       "      <td>f</td>\n",
       "      <td>f</td>\n",
       "      <td>PartTime</td>\n",
       "      <td>rrr</td>\n",
       "      <td>EntryLevel(freshGraduate)</td>\n",
       "      <td>f</td>\n",
       "      <td>ffffhyg</td>\n",
       "      <td>f</td>\n",
       "      <td>f</td>\n",
       "      <td>2020-05-11 23:55:51.7599029</td>\n",
       "      <td>ff</td>\n",
       "    </tr>\n",
       "    <tr>\n",
       "      <th>1</th>\n",
       "      <td>1</td>\n",
       "      <td>1</td>\n",
       "      <td>2</td>\n",
       "      <td>24</td>\n",
       "      <td>web devolper</td>\n",
       "      <td>nurmal</td>\n",
       "      <td>500</td>\n",
       "      <td>PartTime</td>\n",
       "      <td>aaaa</td>\n",
       "      <td>EntryLevel(freshGraduate)</td>\n",
       "      <td>f</td>\n",
       "      <td>web devolperweb devolperpig salary know css ht...</td>\n",
       "      <td>alex</td>\n",
       "      <td>egypt</td>\n",
       "      <td>2020-06-08 17:52:57.1577042</td>\n",
       "      <td>aaaa</td>\n",
       "    </tr>\n",
       "    <tr>\n",
       "      <th>2</th>\n",
       "      <td>2</td>\n",
       "      <td>2</td>\n",
       "      <td>3</td>\n",
       "      <td>24</td>\n",
       "      <td>game devolper</td>\n",
       "      <td>some</td>\n",
       "      <td>4000</td>\n",
       "      <td>FullTime</td>\n",
       "      <td>fff</td>\n",
       "      <td>IntermediateorExperiencedLevel</td>\n",
       "      <td>aaa</td>\n",
       "      <td>game devolpergame devolperknow c# and oop</td>\n",
       "      <td>cairo</td>\n",
       "      <td>egypt</td>\n",
       "      <td>2020-06-08 17:55:56.9349025</td>\n",
       "      <td>aaa</td>\n",
       "    </tr>\n",
       "    <tr>\n",
       "      <th>3</th>\n",
       "      <td>3</td>\n",
       "      <td>3</td>\n",
       "      <td>4</td>\n",
       "      <td>24</td>\n",
       "      <td>php</td>\n",
       "      <td>programming</td>\n",
       "      <td>5000</td>\n",
       "      <td>PartTime</td>\n",
       "      <td>ffffddd</td>\n",
       "      <td>EntryLevel(freshGraduate)</td>\n",
       "      <td>aa</td>\n",
       "      <td>phpphpknow php</td>\n",
       "      <td>cairo</td>\n",
       "      <td>egypt</td>\n",
       "      <td>2020-06-08 18:01:47.1314275</td>\n",
       "      <td>aaa</td>\n",
       "    </tr>\n",
       "  </tbody>\n",
       "</table>\n",
       "</div>"
      ],
      "text/plain": [
       "   level_0  index  Id  UserId       JobTitle ExperienceNeeded Salary  \\\n",
       "0        0      0   1      24             ff                f      f   \n",
       "1        1      1   2      24   web devolper           nurmal    500   \n",
       "2        2      2   3      24  game devolper             some   4000   \n",
       "3        3      3   4      24            php     programming    5000   \n",
       "\n",
       "    JobType JobRequirements                     CareerLevel Vacancies  \\\n",
       "0  PartTime             rrr       EntryLevel(freshGraduate)         f   \n",
       "1  PartTime            aaaa       EntryLevel(freshGraduate)         f   \n",
       "2  FullTime             fff  IntermediateorExperiencedLevel       aaa   \n",
       "3  PartTime         ffffddd       EntryLevel(freshGraduate)        aa   \n",
       "\n",
       "                                      JobDescription   City Country  \\\n",
       "0                                            ffffhyg      f       f   \n",
       "1  web devolperweb devolperpig salary know css ht...   alex   egypt   \n",
       "2          game devolpergame devolperknow c# and oop  cairo   egypt   \n",
       "3                                     phpphpknow php  cairo   egypt   \n",
       "\n",
       "                       Created JobRole  \n",
       "0  2020-05-11 23:55:51.7599029      ff  \n",
       "1  2020-06-08 17:52:57.1577042    aaaa  \n",
       "2  2020-06-08 17:55:56.9349025     aaa  \n",
       "3  2020-06-08 18:01:47.1314275     aaa  "
      ]
     },
     "execution_count": 48,
     "metadata": {},
     "output_type": "execute_result"
    }
   ],
   "source": [
    "jobs_base_line['JobTitle'] = jobs_base_line['JobTitle'].fillna('')\n",
    "jobs_base_line['JobDescription'] = jobs_base_line['JobDescription'].fillna('')\n",
    "\n",
    "\n",
    "jobs_base_line['JobDescription'] = jobs_base_line['JobTitle'] + jobs_base_line['JobDescription']\n",
    "jobs_base_line.head(20000)\n"
   ]
  },
  {
   "cell_type": "code",
   "execution_count": 61,
   "metadata": {},
   "outputs": [],
   "source": [
    "tf = TfidfVectorizer(analyzer='word',ngram_range=(1, 2),min_df=0, stop_words='english')\n",
    "tfidf_matrix = tf.fit_transform(jobs_base_line['JobDescription'])"
   ]
  },
  {
   "cell_type": "code",
   "execution_count": 62,
   "metadata": {},
   "outputs": [
    {
     "data": {
      "text/plain": [
       "(4, 21)"
      ]
     },
     "execution_count": 62,
     "metadata": {},
     "output_type": "execute_result"
    }
   ],
   "source": [
    "tfidf_matrix.shape"
   ]
  },
  {
   "cell_type": "code",
   "execution_count": 63,
   "metadata": {},
   "outputs": [],
   "source": [
    "\n",
    "cosine_sim = linear_kernel(tfidf_matrix, tfidf_matrix)"
   ]
  },
  {
   "cell_type": "code",
   "execution_count": 64,
   "metadata": {},
   "outputs": [
    {
     "data": {
      "text/plain": [
       "array([[1.        , 0.        , 0.        , 0.        ],\n",
       "       [0.        , 1.        , 0.        , 0.10806031],\n",
       "       [0.        , 0.        , 1.        , 0.        ],\n",
       "       [0.        , 0.10806031, 0.        , 1.        ]])"
      ]
     },
     "execution_count": 64,
     "metadata": {},
     "output_type": "execute_result"
    }
   ],
   "source": [
    "cosine_sim"
   ]
  },
  {
   "cell_type": "code",
   "execution_count": 65,
   "metadata": {},
   "outputs": [
    {
     "data": {
      "text/plain": [
       "JobTitle\n",
       "ff              0\n",
       "web devolper    1\n",
       "dtype: int64"
      ]
     },
     "execution_count": 65,
     "metadata": {},
     "output_type": "execute_result"
    }
   ],
   "source": [
    "jobs_base_line = jobs_base_line.reset_index()\n",
    "titles = jobs_base_line['JobTitle']\n",
    "indices = pd.Series(jobs_base_line.index, index=jobs_base_line['JobTitle'])\n",
    "indices.head(2)"
   ]
  },
  {
   "cell_type": "code",
   "execution_count": 66,
   "metadata": {},
   "outputs": [],
   "source": [
    "def get_recommendations(title):\n",
    "    idx = indices[title]\n",
    "    #print (idx)\n",
    "    sim_scores = list(enumerate(cosine_sim[idx]))\n",
    "    #print (sim_scores)\n",
    "    sim_scores = sorted(sim_scores, key=lambda x: x[1], reverse=True)\n",
    "    job_indices = [i[0] for i in sim_scores]\n",
    "    return titles.iloc[job_indices]"
   ]
  },
  {
   "cell_type": "code",
   "execution_count": 67,
   "metadata": {},
   "outputs": [
    {
     "data": {
      "text/plain": [
       "0               ff\n",
       "1     web devolper\n",
       "2    game devolper\n",
       "3              php\n",
       "Name: JobTitle, dtype: object"
      ]
     },
     "execution_count": 67,
     "metadata": {},
     "output_type": "execute_result"
    }
   ],
   "source": [
    "print(json.dumps(get_recommendations(query).head(10)))"
   ]
  },
  {
   "cell_type": "code",
   "execution_count": null,
   "metadata": {},
   "outputs": [],
   "source": []
  }
 ],
 "metadata": {
  "kernelspec": {
   "display_name": "Python 2",
   "language": "python",
   "name": "python2"
  },
  "language_info": {
   "codemirror_mode": {
    "name": "ipython",
    "version": 2
   },
   "file_extension": ".py",
   "mimetype": "text/x-python",
   "name": "python",
   "nbconvert_exporter": "python",
   "pygments_lexer": "ipython2",
   "version": "2.7.16"
  }
 },
 "nbformat": 4,
 "nbformat_minor": 2
}
